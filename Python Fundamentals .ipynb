{
 "cells": [
  {
   "cell_type": "markdown",
   "id": "18902cb4-d032-4535-8a99-3d53239f1db2",
   "metadata": {},
   "source": [
    "# Python Fundamentals"
   ]
  },
  {
   "cell_type": "markdown",
   "id": "c7a00ead-a431-4738-bb76-91db063fa953",
   "metadata": {},
   "source": [
    "#### Variables"
   ]
  },
  {
   "cell_type": "code",
   "execution_count": 16,
   "id": "453dac59-1bf5-46e5-843f-8e108b2d4125",
   "metadata": {},
   "outputs": [
    {
     "name": "stdout",
     "output_type": "stream",
     "text": [
      "Binuki\n",
      "20\n",
      "45.67\n"
     ]
    }
   ],
   "source": [
    "# ---> for comments\n",
    "\n",
    "name = 'Binuki'\n",
    "age = 20\n",
    "weight = 45.67\n",
    "\n",
    "#name, age, weight = \"Binuki\", 20, 45.67\n",
    "\n",
    "print(name)\n",
    "print(age)\n",
    "print(weight)\n",
    "\n",
    "#variale namings can only have letters, numbers and underscores. No spaces.\n",
    "#pyt4hon3 = 45 --->correct\n",
    "#4jndn = 234 ---> wrong\n",
    "#_hi_Im_Binuki_ =89 --->correct"
   ]
  },
  {
   "cell_type": "markdown",
   "id": "3fa81901-ac30-4347-953d-c0321cce26cd",
   "metadata": {},
   "source": [
    "#### Data Types"
   ]
  },
  {
   "cell_type": "code",
   "execution_count": 35,
   "id": "2b6cf82f-7fab-4e1a-8187-8180710eef51",
   "metadata": {},
   "outputs": [
    {
     "name": "stdout",
     "output_type": "stream",
     "text": [
      "58\n",
      "<class 'int'>\n",
      "34.567\n",
      "<class 'float'>\n",
      "True\n",
      "<class 'bool'>\n",
      "(3+4j)\n",
      "<class 'complex'>\n"
     ]
    }
   ],
   "source": [
    "a = 58\n",
    "print(a)\n",
    "print(type(a))\n",
    "\n",
    "b = 34.567\n",
    "print(b)\n",
    "print(type(b))\n",
    "\n",
    "c = True\n",
    "d = False\n",
    "print(c)\n",
    "print(type(c))\n",
    "\n",
    "f = 3 + 4j\n",
    "print(f)\n",
    "print(type(f))"
   ]
  },
  {
   "cell_type": "markdown",
   "id": "25f28ff3-49da-4476-a64d-ab7198e03c4b",
   "metadata": {},
   "source": [
    "#### Arithmetic Operators"
   ]
  },
  {
   "cell_type": "code",
   "execution_count": 52,
   "id": "88f71cb9-2703-4519-96d5-4f91214408cf",
   "metadata": {},
   "outputs": [
    {
     "data": {
      "text/plain": [
       "2.5"
      ]
     },
     "execution_count": 52,
     "metadata": {},
     "output_type": "execute_result"
    }
   ],
   "source": [
    "5/2"
   ]
  },
  {
   "cell_type": "code",
   "execution_count": 54,
   "id": "8c8f3ac2-fc92-486f-8ab7-8d79b8052135",
   "metadata": {},
   "outputs": [
    {
     "data": {
      "text/plain": [
       "2"
      ]
     },
     "execution_count": 54,
     "metadata": {},
     "output_type": "execute_result"
    }
   ],
   "source": [
    "5//2"
   ]
  },
  {
   "cell_type": "code",
   "execution_count": 56,
   "id": "e6855fed-c4f4-45e3-911a-e6a9f074d5d9",
   "metadata": {},
   "outputs": [
    {
     "data": {
      "text/plain": [
       "1"
      ]
     },
     "execution_count": 56,
     "metadata": {},
     "output_type": "execute_result"
    }
   ],
   "source": [
    "5%2"
   ]
  },
  {
   "cell_type": "code",
   "execution_count": 58,
   "id": "4c18c614-a61e-444d-9547-dd69bc069023",
   "metadata": {},
   "outputs": [
    {
     "data": {
      "text/plain": [
       "25"
      ]
     },
     "execution_count": 58,
     "metadata": {},
     "output_type": "execute_result"
    }
   ],
   "source": [
    "5**2"
   ]
  },
  {
   "cell_type": "markdown",
   "id": "69ee7887-9ff9-4f99-ab3d-dd0addec0e9c",
   "metadata": {},
   "source": [
    "#### Logical Operators"
   ]
  },
  {
   "cell_type": "code",
   "execution_count": 63,
   "id": "11e2e265-8d47-428a-8f1f-b6fe5c6e2660",
   "metadata": {},
   "outputs": [
    {
     "data": {
      "text/plain": [
       "True"
      ]
     },
     "execution_count": 63,
     "metadata": {},
     "output_type": "execute_result"
    }
   ],
   "source": [
    "True and True"
   ]
  },
  {
   "cell_type": "code",
   "execution_count": 67,
   "id": "137610f7-e518-4444-a777-4762267b292d",
   "metadata": {},
   "outputs": [
    {
     "name": "stdout",
     "output_type": "stream",
     "text": [
      "False\n"
     ]
    }
   ],
   "source": [
    "print((5<2)or (3>8))"
   ]
  },
  {
   "cell_type": "code",
   "execution_count": 69,
   "id": "090e4c6e-25a1-4c66-a80b-d5d31dea8b42",
   "metadata": {},
   "outputs": [
    {
     "data": {
      "text/plain": [
       "False"
      ]
     },
     "execution_count": 69,
     "metadata": {},
     "output_type": "execute_result"
    }
   ],
   "source": [
    "not True"
   ]
  },
  {
   "cell_type": "markdown",
   "id": "a09dd111-6940-4824-8e08-87a2064aa426",
   "metadata": {},
   "source": [
    "#### Identity Operators"
   ]
  },
  {
   "cell_type": "code",
   "execution_count": 74,
   "id": "753d007f-3ada-458d-82fa-f27d7a7fe999",
   "metadata": {},
   "outputs": [
    {
     "name": "stdout",
     "output_type": "stream",
     "text": [
      "True\n",
      "False\n",
      "False\n"
     ]
    }
   ],
   "source": [
    "x = 2\n",
    "y = 2\n",
    "z = 4\n",
    "\n",
    "print(x is y)\n",
    "print (x is z)\n",
    "print (x is not y)"
   ]
  },
  {
   "cell_type": "markdown",
   "id": "e086f78d-84d3-444f-aea5-755fcf3a4d67",
   "metadata": {},
   "source": [
    "#### If- Else"
   ]
  },
  {
   "cell_type": "code",
   "execution_count": 79,
   "id": "7bbc05c5-6236-482e-8d02-a7bc80e6e1bc",
   "metadata": {},
   "outputs": [
    {
     "name": "stdout",
     "output_type": "stream",
     "text": [
      "Pass\n"
     ]
    }
   ],
   "source": [
    "marks = 70\n",
    "\n",
    "if marks>=45:\n",
    "    print(\"Pass\")\n",
    "else:\n",
    "    print(\"Fail\")"
   ]
  },
  {
   "cell_type": "markdown",
   "id": "defbce54-c233-4960-a6b7-48881fbc89f7",
   "metadata": {},
   "source": [
    "#### If- Else- Elif"
   ]
  },
  {
   "cell_type": "code",
   "execution_count": 86,
   "id": "72324480-5d28-44e6-b454-c20519b3b4da",
   "metadata": {},
   "outputs": [
    {
     "name": "stdout",
     "output_type": "stream",
     "text": [
      "A\n"
     ]
    }
   ],
   "source": [
    "marks = 90\n",
    "\n",
    "if marks>75:\n",
    "    print(\"A\")\n",
    "elif marks>65:\n",
    "    print(\"B\")\n",
    "elif marks>50:\n",
    "    print(\"C\")\n",
    "else:\n",
    "    print(\"F\")"
   ]
  },
  {
   "cell_type": "markdown",
   "id": "0a9fbfd9-0e89-41b3-b306-52d68b88de10",
   "metadata": {},
   "source": [
    "#### Nested If else"
   ]
  },
  {
   "cell_type": "code",
   "execution_count": 12,
   "id": "a683c0aa-fcba-4fbd-ac4f-8fd473dc05d8",
   "metadata": {},
   "outputs": [
    {
     "name": "stdout",
     "output_type": "stream",
     "text": [
      "Zero\n"
     ]
    }
   ],
   "source": [
    "#alternative for the elif\n",
    "number = 0\n",
    "\n",
    "if number!=0:\n",
    "    if number>0:\n",
    "        print(\"Positive\")\n",
    "    else:\n",
    "        print(\"Negative\")\n",
    "else:\n",
    "    print(\"Zero\")\n",
    "            "
   ]
  },
  {
   "cell_type": "markdown",
   "id": "9e878615-1264-4813-bd75-531fcb52efcb",
   "metadata": {},
   "source": [
    "#### Formatted Printing"
   ]
  },
  {
   "cell_type": "code",
   "execution_count": 108,
   "id": "c923ab89-cfa7-4594-ac7c-67508fabb6ef",
   "metadata": {},
   "outputs": [
    {
     "name": "stdout",
     "output_type": "stream",
     "text": [
      "Hi, I am Binuki. I am 20 years old.\n"
     ]
    }
   ],
   "source": [
    "name = \"Binuki\"\n",
    "age = 20\n",
    "\n",
    "print(\"Hi, I am \"+name+ \". I am \"+str(age)+\" years old.\")"
   ]
  },
  {
   "cell_type": "markdown",
   "id": "1562162f-9ee2-4993-b83a-9421d26c5517",
   "metadata": {},
   "source": [
    "#### Getting user inputs"
   ]
  },
  {
   "cell_type": "code",
   "execution_count": 112,
   "id": "7cf95795-24fa-4e11-8460-101dbd874a41",
   "metadata": {},
   "outputs": [
    {
     "name": "stdin",
     "output_type": "stream",
     "text": [
      "Enter your name:  Binuki\n",
      "Enter you age:  20\n",
      "Enter your score:  90\n"
     ]
    },
    {
     "name": "stdout",
     "output_type": "stream",
     "text": [
      "My name is Binuki\n",
      "<class 'str'>\n",
      "<class 'int'>\n",
      "<class 'str'>\n"
     ]
    }
   ],
   "source": [
    "name =input(\"Enter your name: \")\n",
    "age = int(input(\"Enter you age: \"))\n",
    "score = input(\"Enter your score: \")\n",
    "\n",
    "print(f\"My name is {name}\")\n",
    "\n",
    "print(type(name))\n",
    "print(type(age))\n",
    "print(type(score))"
   ]
  },
  {
   "cell_type": "markdown",
   "id": "5189855a-acf4-4030-9d2e-ec06ade0af49",
   "metadata": {},
   "source": [
    "#### List Data type"
   ]
  },
  {
   "cell_type": "code",
   "execution_count": 17,
   "id": "101d10f0-dc85-45e1-9867-6f2fc2a9bd5c",
   "metadata": {},
   "outputs": [
    {
     "name": "stdout",
     "output_type": "stream",
     "text": [
      "<class 'list'>\n",
      "<class 'list'>\n"
     ]
    }
   ],
   "source": [
    "#can contain any data types\n",
    "#List is a mutable data type\n",
    "lst1 = [23,4,56,7]\n",
    "lst2 = list((34,5,6,34,45))\n",
    "\n",
    "print(type(lst1))\n",
    "print(type(lst2))"
   ]
  },
  {
   "cell_type": "code",
   "execution_count": 173,
   "id": "5d943818-3c9d-435f-8dc1-234516c8981f",
   "metadata": {},
   "outputs": [
    {
     "name": "stdout",
     "output_type": "stream",
     "text": [
      "kamal\n",
      "42\n",
      "[42, 'Kandy', 12, [2, 3, 4]]\n",
      "[42, 'Kandy']\n",
      "[42, 12]\n",
      "['kamal', 'Kandy', [2, 3, 4]]\n",
      "[2, 3, 4]\n",
      "2\n",
      "['kamal', 42, 'Kandy', 12, 'Colombo']\n",
      "['kamal', 42, 'Kandy', 12, 'Colombo', 'Amaya']\n",
      "['kamal', 42, 'Kandy', 12, 'Colombo']\n",
      "['kamal', 42, 'Kandy', 12]\n"
     ]
    }
   ],
   "source": [
    "my_list = [\"kamal\", 42, \"Kandy\", 12, [2,3,4]]\n",
    "\n",
    "print(my_list[0])\n",
    "print(my_list[-4])\n",
    "print(my_list[1:])\n",
    "print(my_list[1:3])\n",
    "print(my_list[1:4:2])\n",
    "print(my_list[::2])\n",
    "print(my_list[4])\n",
    "print(my_list[4][0])\n",
    "\n",
    "my_list[-1] = \"Colombo\"\n",
    "print(my_list)\n",
    "\n",
    "my_list.append(\"Amaya\")\n",
    "print(my_list)\n",
    "\n",
    "my_list.remove(\"Amaya\")\n",
    "print(my_list)\n",
    "\n",
    "my_list.pop(4)\n",
    "print(my_list)"
   ]
  },
  {
   "cell_type": "code",
   "execution_count": 178,
   "id": "9d117dec-7fc6-4fc9-8be9-5d1ca60e75f4",
   "metadata": {},
   "outputs": [
    {
     "name": "stdout",
     "output_type": "stream",
     "text": [
      "5\n"
     ]
    }
   ],
   "source": [
    "my_list = [\"kamal\", 42, \"Kandy\", 12, [2,3,4]]\n",
    "\n",
    "print(len(my_list))"
   ]
  },
  {
   "cell_type": "code",
   "execution_count": 182,
   "id": "88bc728c-ced5-4741-96b6-fe1737d6560e",
   "metadata": {},
   "outputs": [
    {
     "name": "stdout",
     "output_type": "stream",
     "text": [
      "3\n",
      "1\n"
     ]
    }
   ],
   "source": [
    "print(my_list.index(12))\n",
    "print(my_list.count(12))"
   ]
  },
  {
   "cell_type": "code",
   "execution_count": 77,
   "id": "7f231678-3865-44bb-83d3-5fe57153389c",
   "metadata": {},
   "outputs": [
    {
     "data": {
      "text/plain": [
       "9"
      ]
     },
     "execution_count": 77,
     "metadata": {},
     "output_type": "execute_result"
    }
   ],
   "source": [
    "L = [2,4,5,3,6,4,9,0,8]\n",
    "len(L)"
   ]
  },
  {
   "cell_type": "code",
   "execution_count": 79,
   "id": "1a7d9a03-f005-4324-8494-f49712b887a4",
   "metadata": {},
   "outputs": [
    {
     "data": {
      "text/plain": [
       "[0, 2, 3, 4, 4, 5, 6, 8, 9]"
      ]
     },
     "execution_count": 79,
     "metadata": {},
     "output_type": "execute_result"
    }
   ],
   "source": [
    "sorted(L)"
   ]
  },
  {
   "cell_type": "code",
   "execution_count": 81,
   "id": "fbb895a3-e8e0-4967-8c48-42de457063fb",
   "metadata": {},
   "outputs": [
    {
     "data": {
      "text/plain": [
       "[4, 3, 2, 1]"
      ]
     },
     "execution_count": 81,
     "metadata": {},
     "output_type": "execute_result"
    }
   ],
   "source": [
    "K=[1,2,3,4]\n",
    "K.sort(reverse=True)\n",
    "K"
   ]
  },
  {
   "cell_type": "markdown",
   "id": "668c1233-4e51-4fce-ab89-66f359e03af5",
   "metadata": {},
   "source": [
    "### Tuple Data type"
   ]
  },
  {
   "cell_type": "code",
   "execution_count": 20,
   "id": "6bc7b23e-53b8-4456-8caa-1f7cf1f5a0ec",
   "metadata": {},
   "outputs": [
    {
     "name": "stdout",
     "output_type": "stream",
     "text": [
      "<class 'tuple'>\n"
     ]
    }
   ],
   "source": [
    "# Tuples are immutable. Can't add, delete, update after intializing the tuple\n",
    "\n",
    "tupl1 = ()\n",
    "print(type(tupl1))"
   ]
  },
  {
   "cell_type": "code",
   "execution_count": 30,
   "id": "83475cc5-07c1-455f-94ae-01caafbc0c51",
   "metadata": {},
   "outputs": [
    {
     "name": "stdout",
     "output_type": "stream",
     "text": [
      "23\n"
     ]
    }
   ],
   "source": [
    "tpl = (23,45,\"kamal\",23)\n",
    "print(tpl[0])"
   ]
  },
  {
   "cell_type": "code",
   "execution_count": 32,
   "id": "5dc17876-07e0-4b91-9196-821f7376b353",
   "metadata": {},
   "outputs": [
    {
     "name": "stdout",
     "output_type": "stream",
     "text": [
      "2\n"
     ]
    }
   ],
   "source": [
    "print(tpl.count(23))"
   ]
  },
  {
   "cell_type": "code",
   "execution_count": 34,
   "id": "69d54751-a3bc-4b10-bb1c-2e1cf4cc954b",
   "metadata": {},
   "outputs": [
    {
     "data": {
      "text/plain": [
       "1"
      ]
     },
     "execution_count": 34,
     "metadata": {},
     "output_type": "execute_result"
    }
   ],
   "source": [
    "tpl.index(45)"
   ]
  },
  {
   "cell_type": "code",
   "execution_count": 42,
   "id": "42835397-6ab7-4b62-8b95-03e9ea5a3126",
   "metadata": {},
   "outputs": [
    {
     "name": "stdout",
     "output_type": "stream",
     "text": [
      "(2, 4, 5, 6, 'hi')\n",
      "<class 'tuple'>\n"
     ]
    }
   ],
   "source": [
    "#converting list to a tuple\n",
    "lst4 = [2,4,5,6,\"hi\"]\n",
    "\n",
    "tpl4 = tuple(lst4)\n",
    "print(tpl4)\n",
    "print(type(tpl4))"
   ]
  },
  {
   "cell_type": "markdown",
   "id": "58451921-919c-442e-b6d4-778bc3243a2b",
   "metadata": {},
   "source": [
    "#### Set Data type"
   ]
  },
  {
   "cell_type": "code",
   "execution_count": 47,
   "id": "7fd8fba2-bfbe-4143-b0f5-86287663aae4",
   "metadata": {},
   "outputs": [
    {
     "name": "stdout",
     "output_type": "stream",
     "text": [
      "{'kamal', 42, 12, 'Kandy'}\n",
      "<class 'set'>\n",
      "{'kamal', 42, 12, 'Kandy'}\n"
     ]
    }
   ],
   "source": [
    "# sets are unordered. Can't use indexing and slicing\n",
    "# can't use duplicate values\n",
    "\n",
    "my_set = {\"kamal\", 42, \"Kandy\", 12}\n",
    "print(my_set)\n",
    "print(type(my_set))\n",
    "\n",
    "my_set2 = {\"kamal\", 42,42,42, \"Kandy\", 12}\n",
    "print(my_set)"
   ]
  },
  {
   "cell_type": "code",
   "execution_count": 59,
   "id": "b9fa9baf-eab9-4706-a81f-6967e5375150",
   "metadata": {},
   "outputs": [
    {
     "name": "stdout",
     "output_type": "stream",
     "text": [
      "{2, 4, 5, 6, 'hi'}\n",
      "<class 'set'>\n"
     ]
    }
   ],
   "source": [
    "#converting list to a set\n",
    "lst4 = [2,4,5,6,\"hi\"]\n",
    "\n",
    "set4 = set(lst4)\n",
    "print(set4)\n",
    "print(type(set4))"
   ]
  },
  {
   "cell_type": "code",
   "execution_count": 57,
   "id": "dfcf9dae-9e1f-41bd-9bb9-bbf037e0f1dc",
   "metadata": {},
   "outputs": [
    {
     "name": "stdout",
     "output_type": "stream",
     "text": [
      "{1, 2, 3, 4, 5, 6, 7, 8, 9}\n",
      "{9, 7}\n",
      "{1, 2, 3, 4}\n"
     ]
    }
   ],
   "source": [
    "#mathematical operations in set\n",
    "\n",
    "a = {1,2,3,4,3,2,7,9}\n",
    "b = {5,6,7,8,9,5,7}\n",
    "\n",
    "print(a.union(b))\n",
    "print(a.intersection(b))\n",
    "print(a.difference(b))"
   ]
  },
  {
   "cell_type": "code",
   "execution_count": 108,
   "id": "4a65290a-0049-4453-9438-51ffb8c5ee37",
   "metadata": {},
   "outputs": [
    {
     "name": "stdout",
     "output_type": "stream",
     "text": [
      "{'hi', 23, 45, 'Binuki'}\n",
      "{45, 23, 'hi', 'bimal', 'Binuki'}\n",
      "{45, ('saman', 34), 23, 'hi', 'bimal', 'Binuki'}\n",
      "{100, 45, ('saman', 34), 20, 23, 'hi', 'bimal', 'Binuki'}\n"
     ]
    }
   ],
   "source": [
    "# adding elements. can't add multiple elements using add()\n",
    "set9 = {\"Binuki\", 23,45,\"hi\"}\n",
    "print(set9)\n",
    "set9.add(\"bimal\")\n",
    "print(set9)\n",
    "\n",
    "set9.add((\"saman\", 34))\n",
    "print(set9)\n",
    "\n",
    "set9.update((100, 20))\n",
    "print(set9)"
   ]
  },
  {
   "cell_type": "code",
   "execution_count": 110,
   "id": "4ea16af8-70c9-4de9-8313-892bf640542f",
   "metadata": {},
   "outputs": [
    {
     "name": "stdout",
     "output_type": "stream",
     "text": [
      "{100, 45, ('saman', 34), 20, 23, 'bimal', 'Binuki'}\n"
     ]
    }
   ],
   "source": [
    "set9.remove(\"hi\")\n",
    "print(set9)"
   ]
  },
  {
   "cell_type": "code",
   "execution_count": 112,
   "id": "ac5a90a1-3f76-44e6-909f-565c78ae8030",
   "metadata": {},
   "outputs": [
    {
     "name": "stdout",
     "output_type": "stream",
     "text": [
      "{45, ('saman', 34), 20, 23, 'bimal', 'Binuki'}\n",
      "set()\n"
     ]
    }
   ],
   "source": [
    "#remove any value in the set\n",
    "set9.pop()\n",
    "print(set9)\n",
    "\n",
    "#clear all values in the set\n",
    "set9.clear()\n",
    "print(set9)"
   ]
  },
  {
   "cell_type": "markdown",
   "id": "dec4824b-1ccd-4a11-b427-2377eb735031",
   "metadata": {},
   "source": [
    "#### Dictionary Data type"
   ]
  },
  {
   "cell_type": "code",
   "execution_count": 145,
   "id": "66393a94-94e0-4743-a8ee-01630c176465",
   "metadata": {},
   "outputs": [
    {
     "name": "stdout",
     "output_type": "stream",
     "text": [
      "{'name': 'binuki', 'age': '20', 'city': 'Kaluthara'}\n",
      "20\n"
     ]
    }
   ],
   "source": [
    "# one element has a key and a value\n",
    "# No indexing. can access value by it's key\n",
    "\n",
    "my_dict = {\"name\": \"binuki\", \"age\":\"20\",\"city\":\"Kaluthara\"}\n",
    "print(my_dict)\n",
    "print(my_dict[\"age\"])"
   ]
  },
  {
   "cell_type": "code",
   "execution_count": 147,
   "id": "cf770bdf-261d-4e8e-88a0-09467d162d8b",
   "metadata": {},
   "outputs": [
    {
     "name": "stdout",
     "output_type": "stream",
     "text": [
      "{'name': 'malini', 'age': '20', 'city': 'Kaluthara'}\n"
     ]
    }
   ],
   "source": [
    "my_dict[\"name\"] = \"malini\"\n",
    "print(my_dict)"
   ]
  },
  {
   "cell_type": "code",
   "execution_count": 149,
   "id": "ca75268d-ce7b-4edf-8a68-1ef7f2fa2569",
   "metadata": {},
   "outputs": [
    {
     "name": "stdout",
     "output_type": "stream",
     "text": [
      "{'name': 'malini', 'age': '20', 'city': 'Kaluthara', 'is_married': False}\n"
     ]
    }
   ],
   "source": [
    "my_dict[\"is_married\"] = False\n",
    "print(my_dict)"
   ]
  },
  {
   "cell_type": "code",
   "execution_count": 151,
   "id": "830ed826-bf2c-49a8-8ec6-617829419611",
   "metadata": {},
   "outputs": [
    {
     "name": "stdout",
     "output_type": "stream",
     "text": [
      "malini\n"
     ]
    }
   ],
   "source": [
    "print(my_dict.get(\"name\"))"
   ]
  },
  {
   "cell_type": "code",
   "execution_count": 153,
   "id": "c1de9149-4e20-403b-a4ac-4278b2921b82",
   "metadata": {},
   "outputs": [
    {
     "name": "stdout",
     "output_type": "stream",
     "text": [
      "malini\n",
      "{'age': '20', 'city': 'Kaluthara', 'is_married': False}\n"
     ]
    }
   ],
   "source": [
    "print(my_dict.pop(\"name\"))\n",
    "#del my_dict[\"name\"]\n",
    "print(my_dict)"
   ]
  },
  {
   "cell_type": "code",
   "execution_count": 157,
   "id": "80646789-a61b-46e6-a802-83f5accf4d99",
   "metadata": {},
   "outputs": [
    {
     "name": "stdout",
     "output_type": "stream",
     "text": [
      "NOT FOUND\n",
      "Kaluthara\n"
     ]
    }
   ],
   "source": [
    "print(my_dict.pop(\"gender\", \"NOT FOUND\"))\n",
    "print(my_dict.pop(\"city\", \"NOT FOUND\"))"
   ]
  },
  {
   "cell_type": "markdown",
   "id": "ec898e62-a9fa-49ec-af01-b7cc67d2df32",
   "metadata": {},
   "source": [
    "#### While Loop"
   ]
  },
  {
   "cell_type": "code",
   "execution_count": 1,
   "id": "c92e728f-b002-4260-b950-91a53224508a",
   "metadata": {},
   "outputs": [
    {
     "name": "stdout",
     "output_type": "stream",
     "text": [
      "10\n",
      "11\n",
      "12\n",
      "13\n",
      "14\n",
      "15\n"
     ]
    }
   ],
   "source": [
    "x= 10\n",
    "\n",
    "while x<=15:\n",
    "    print(x)\n",
    "    x+=1"
   ]
  },
  {
   "cell_type": "markdown",
   "id": "0fd4e0b6-8fb7-4b08-b662-96ae582cba7c",
   "metadata": {},
   "source": [
    "#### For Loop"
   ]
  },
  {
   "cell_type": "code",
   "execution_count": 4,
   "id": "a991bea4-c0cb-4bff-8e3e-d65bae004647",
   "metadata": {},
   "outputs": [
    {
     "name": "stdout",
     "output_type": "stream",
     "text": [
      "1\n",
      "4\n",
      "6\n",
      "8\n"
     ]
    }
   ],
   "source": [
    "y = (1,4,6,8)\n",
    "for num in y:\n",
    "    print(num)"
   ]
  },
  {
   "cell_type": "markdown",
   "id": "10b92a32-f31b-48b5-8196-f00fa22c4556",
   "metadata": {},
   "source": [
    "#### Functions"
   ]
  },
  {
   "cell_type": "code",
   "execution_count": 7,
   "id": "2baa9ab2-b8f4-4e53-87d5-e2158414a579",
   "metadata": {},
   "outputs": [
    {
     "name": "stdout",
     "output_type": "stream",
     "text": [
      "Hello\n"
     ]
    }
   ],
   "source": [
    "def fun2():\n",
    "    print('Hello')\n",
    "\n",
    "fun2()"
   ]
  },
  {
   "cell_type": "code",
   "execution_count": 9,
   "id": "f387dc43-b6cc-4d5a-8225-da2347a3d56d",
   "metadata": {},
   "outputs": [
    {
     "name": "stdout",
     "output_type": "stream",
     "text": [
      "8\n"
     ]
    }
   ],
   "source": [
    "def fun3(x):\n",
    "    print(2*x)\n",
    "\n",
    "fun3(4)"
   ]
  },
  {
   "cell_type": "code",
   "execution_count": 11,
   "id": "72ad5b54-db80-45ba-be39-415ee9b4ae54",
   "metadata": {},
   "outputs": [
    {
     "name": "stdout",
     "output_type": "stream",
     "text": [
      "4\n"
     ]
    }
   ],
   "source": [
    "def fun(a,b,c):\n",
    "    if a>=b:\n",
    "        if a>=c:\n",
    "            print(a)\n",
    "        else:\n",
    "            print(c)\n",
    "    else:\n",
    "        if b>=c:\n",
    "            print(b)\n",
    "        else:\n",
    "            print(c)\n",
    "\n",
    "fun(2,3,4)"
   ]
  },
  {
   "cell_type": "code",
   "execution_count": 13,
   "id": "0e50364f-aeee-4b26-996f-e05c8418baf7",
   "metadata": {},
   "outputs": [
    {
     "name": "stdout",
     "output_type": "stream",
     "text": [
      "6\n"
     ]
    }
   ],
   "source": [
    "def fun5(a,b,c):\n",
    "    print(max([a,b,c]))\n",
    "\n",
    "fun5(4,5,6)"
   ]
  },
  {
   "cell_type": "code",
   "execution_count": 19,
   "id": "28f89a15-4f93-4c6d-8be0-e1522b2b0a88",
   "metadata": {},
   "outputs": [
    {
     "data": {
      "text/plain": [
       "6"
      ]
     },
     "execution_count": 19,
     "metadata": {},
     "output_type": "execute_result"
    }
   ],
   "source": [
    "def func(x):\n",
    "    return 2*x\n",
    "\n",
    "func(3)"
   ]
  },
  {
   "cell_type": "code",
   "execution_count": 21,
   "id": "d7c18687-8666-47a3-945c-6ee8651756d3",
   "metadata": {},
   "outputs": [
    {
     "data": {
      "text/plain": [
       "[6, 8, 10, 12]"
      ]
     },
     "execution_count": 21,
     "metadata": {},
     "output_type": "execute_result"
    }
   ],
   "source": [
    "[func(i) for i in [3,4,5,6]]"
   ]
  },
  {
   "cell_type": "markdown",
   "id": "9d1eff16-1495-43bb-b2d7-dc709369a7ab",
   "metadata": {},
   "source": [
    "#### Lambda Function"
   ]
  },
  {
   "cell_type": "code",
   "execution_count": 28,
   "id": "7b360dbd-94c0-4c34-b444-8c2fa87035de",
   "metadata": {},
   "outputs": [
    {
     "data": {
      "text/plain": [
       "8"
      ]
     },
     "execution_count": 28,
     "metadata": {},
     "output_type": "execute_result"
    }
   ],
   "source": [
    "fun9 = lambda x: 2*x\n",
    "fun9(4)"
   ]
  },
  {
   "cell_type": "code",
   "execution_count": 30,
   "id": "d3c59df9-5b46-4d99-8c60-34f968a2de14",
   "metadata": {},
   "outputs": [
    {
     "data": {
      "text/plain": [
       "10"
      ]
     },
     "execution_count": 30,
     "metadata": {},
     "output_type": "execute_result"
    }
   ],
   "source": [
    "#calling can be done without defining\n",
    "(lambda x : 2*x)(5)"
   ]
  },
  {
   "cell_type": "code",
   "execution_count": 32,
   "id": "ef8991b7-6c5f-4f51-93d2-981c6609b282",
   "metadata": {},
   "outputs": [
    {
     "data": {
      "text/plain": [
       "7"
      ]
     },
     "execution_count": 32,
     "metadata": {},
     "output_type": "execute_result"
    }
   ],
   "source": [
    "fun10 = lambda a,b,c : max([a,b,c])\n",
    "fun10(2,4,7)"
   ]
  },
  {
   "cell_type": "code",
   "execution_count": 36,
   "id": "e880c11d-4db7-4ab3-b9a9-00d3a3fb7268",
   "metadata": {},
   "outputs": [
    {
     "data": {
      "text/plain": [
       "'Pass'"
      ]
     },
     "execution_count": 36,
     "metadata": {},
     "output_type": "execute_result"
    }
   ],
   "source": [
    "get_result = lambda m: \"Pass\" if m>75 else \"Fail\"\n",
    "get_result(90)"
   ]
  },
  {
   "cell_type": "code",
   "execution_count": 38,
   "id": "d7daa050-366d-4360-bd2d-5d4907bd0c02",
   "metadata": {},
   "outputs": [
    {
     "data": {
      "text/plain": [
       "'Fail'"
      ]
     },
     "execution_count": 38,
     "metadata": {},
     "output_type": "execute_result"
    }
   ],
   "source": [
    "get_result(30)"
   ]
  }
 ],
 "metadata": {
  "kernelspec": {
   "display_name": "Python 3 (ipykernel)",
   "language": "python",
   "name": "python3"
  },
  "language_info": {
   "codemirror_mode": {
    "name": "ipython",
    "version": 3
   },
   "file_extension": ".py",
   "mimetype": "text/x-python",
   "name": "python",
   "nbconvert_exporter": "python",
   "pygments_lexer": "ipython3",
   "version": "3.12.4"
  }
 },
 "nbformat": 4,
 "nbformat_minor": 5
}
